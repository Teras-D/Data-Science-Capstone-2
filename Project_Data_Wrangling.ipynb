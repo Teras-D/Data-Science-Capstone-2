{
 "cells": [
  {
   "cell_type": "code",
   "execution_count": 1,
   "id": "bb378973",
   "metadata": {},
   "outputs": [],
   "source": [
    "import pandas as pd"
   ]
  },
  {
   "cell_type": "code",
   "execution_count": 2,
   "id": "9a2baf5c",
   "metadata": {},
   "outputs": [
    {
     "data": {
      "text/html": [
       "<div>\n",
       "<style scoped>\n",
       "    .dataframe tbody tr th:only-of-type {\n",
       "        vertical-align: middle;\n",
       "    }\n",
       "\n",
       "    .dataframe tbody tr th {\n",
       "        vertical-align: top;\n",
       "    }\n",
       "\n",
       "    .dataframe thead th {\n",
       "        text-align: right;\n",
       "    }\n",
       "</style>\n",
       "<table border=\"1\" class=\"dataframe\">\n",
       "  <thead>\n",
       "    <tr style=\"text-align: right;\">\n",
       "      <th></th>\n",
       "      <th>ID</th>\n",
       "      <th>CODE_GENDER</th>\n",
       "      <th>FLAG_OWN_CAR</th>\n",
       "      <th>FLAG_OWN_REALTY</th>\n",
       "      <th>CNT_CHILDREN</th>\n",
       "      <th>AMT_INCOME_TOTAL</th>\n",
       "      <th>NAME_INCOME_TYPE</th>\n",
       "      <th>NAME_EDUCATION_TYPE</th>\n",
       "      <th>NAME_FAMILY_STATUS</th>\n",
       "      <th>NAME_HOUSING_TYPE</th>\n",
       "      <th>DAYS_BIRTH</th>\n",
       "      <th>DAYS_EMPLOYED</th>\n",
       "      <th>FLAG_MOBIL</th>\n",
       "      <th>FLAG_WORK_PHONE</th>\n",
       "      <th>FLAG_PHONE</th>\n",
       "      <th>FLAG_EMAIL</th>\n",
       "      <th>OCCUPATION_TYPE</th>\n",
       "      <th>CNT_FAM_MEMBERS</th>\n",
       "    </tr>\n",
       "  </thead>\n",
       "  <tbody>\n",
       "    <tr>\n",
       "      <th>0</th>\n",
       "      <td>5008804</td>\n",
       "      <td>M</td>\n",
       "      <td>Y</td>\n",
       "      <td>Y</td>\n",
       "      <td>0</td>\n",
       "      <td>427500.0</td>\n",
       "      <td>Working</td>\n",
       "      <td>Higher education</td>\n",
       "      <td>Civil marriage</td>\n",
       "      <td>Rented apartment</td>\n",
       "      <td>-12005</td>\n",
       "      <td>-4542</td>\n",
       "      <td>1</td>\n",
       "      <td>1</td>\n",
       "      <td>0</td>\n",
       "      <td>0</td>\n",
       "      <td>NaN</td>\n",
       "      <td>2.0</td>\n",
       "    </tr>\n",
       "    <tr>\n",
       "      <th>1</th>\n",
       "      <td>5008805</td>\n",
       "      <td>M</td>\n",
       "      <td>Y</td>\n",
       "      <td>Y</td>\n",
       "      <td>0</td>\n",
       "      <td>427500.0</td>\n",
       "      <td>Working</td>\n",
       "      <td>Higher education</td>\n",
       "      <td>Civil marriage</td>\n",
       "      <td>Rented apartment</td>\n",
       "      <td>-12005</td>\n",
       "      <td>-4542</td>\n",
       "      <td>1</td>\n",
       "      <td>1</td>\n",
       "      <td>0</td>\n",
       "      <td>0</td>\n",
       "      <td>NaN</td>\n",
       "      <td>2.0</td>\n",
       "    </tr>\n",
       "    <tr>\n",
       "      <th>2</th>\n",
       "      <td>5008806</td>\n",
       "      <td>M</td>\n",
       "      <td>Y</td>\n",
       "      <td>Y</td>\n",
       "      <td>0</td>\n",
       "      <td>112500.0</td>\n",
       "      <td>Working</td>\n",
       "      <td>Secondary / secondary special</td>\n",
       "      <td>Married</td>\n",
       "      <td>House / apartment</td>\n",
       "      <td>-21474</td>\n",
       "      <td>-1134</td>\n",
       "      <td>1</td>\n",
       "      <td>0</td>\n",
       "      <td>0</td>\n",
       "      <td>0</td>\n",
       "      <td>Security staff</td>\n",
       "      <td>2.0</td>\n",
       "    </tr>\n",
       "    <tr>\n",
       "      <th>3</th>\n",
       "      <td>5008808</td>\n",
       "      <td>F</td>\n",
       "      <td>N</td>\n",
       "      <td>Y</td>\n",
       "      <td>0</td>\n",
       "      <td>270000.0</td>\n",
       "      <td>Commercial associate</td>\n",
       "      <td>Secondary / secondary special</td>\n",
       "      <td>Single / not married</td>\n",
       "      <td>House / apartment</td>\n",
       "      <td>-19110</td>\n",
       "      <td>-3051</td>\n",
       "      <td>1</td>\n",
       "      <td>0</td>\n",
       "      <td>1</td>\n",
       "      <td>1</td>\n",
       "      <td>Sales staff</td>\n",
       "      <td>1.0</td>\n",
       "    </tr>\n",
       "    <tr>\n",
       "      <th>4</th>\n",
       "      <td>5008809</td>\n",
       "      <td>F</td>\n",
       "      <td>N</td>\n",
       "      <td>Y</td>\n",
       "      <td>0</td>\n",
       "      <td>270000.0</td>\n",
       "      <td>Commercial associate</td>\n",
       "      <td>Secondary / secondary special</td>\n",
       "      <td>Single / not married</td>\n",
       "      <td>House / apartment</td>\n",
       "      <td>-19110</td>\n",
       "      <td>-3051</td>\n",
       "      <td>1</td>\n",
       "      <td>0</td>\n",
       "      <td>1</td>\n",
       "      <td>1</td>\n",
       "      <td>Sales staff</td>\n",
       "      <td>1.0</td>\n",
       "    </tr>\n",
       "  </tbody>\n",
       "</table>\n",
       "</div>"
      ],
      "text/plain": [
       "        ID CODE_GENDER FLAG_OWN_CAR FLAG_OWN_REALTY  CNT_CHILDREN  \\\n",
       "0  5008804           M            Y               Y             0   \n",
       "1  5008805           M            Y               Y             0   \n",
       "2  5008806           M            Y               Y             0   \n",
       "3  5008808           F            N               Y             0   \n",
       "4  5008809           F            N               Y             0   \n",
       "\n",
       "   AMT_INCOME_TOTAL      NAME_INCOME_TYPE            NAME_EDUCATION_TYPE  \\\n",
       "0          427500.0               Working               Higher education   \n",
       "1          427500.0               Working               Higher education   \n",
       "2          112500.0               Working  Secondary / secondary special   \n",
       "3          270000.0  Commercial associate  Secondary / secondary special   \n",
       "4          270000.0  Commercial associate  Secondary / secondary special   \n",
       "\n",
       "     NAME_FAMILY_STATUS  NAME_HOUSING_TYPE  DAYS_BIRTH  DAYS_EMPLOYED  \\\n",
       "0        Civil marriage   Rented apartment      -12005          -4542   \n",
       "1        Civil marriage   Rented apartment      -12005          -4542   \n",
       "2               Married  House / apartment      -21474          -1134   \n",
       "3  Single / not married  House / apartment      -19110          -3051   \n",
       "4  Single / not married  House / apartment      -19110          -3051   \n",
       "\n",
       "   FLAG_MOBIL  FLAG_WORK_PHONE  FLAG_PHONE  FLAG_EMAIL OCCUPATION_TYPE  \\\n",
       "0           1                1           0           0             NaN   \n",
       "1           1                1           0           0             NaN   \n",
       "2           1                0           0           0  Security staff   \n",
       "3           1                0           1           1     Sales staff   \n",
       "4           1                0           1           1     Sales staff   \n",
       "\n",
       "   CNT_FAM_MEMBERS  \n",
       "0              2.0  \n",
       "1              2.0  \n",
       "2              2.0  \n",
       "3              1.0  \n",
       "4              1.0  "
      ]
     },
     "execution_count": 2,
     "metadata": {},
     "output_type": "execute_result"
    }
   ],
   "source": [
    "#Import Data #1\n",
    "application = \"application_record.csv\"\n",
    "df_application = pd.read_csv(application)\n",
    "df_application.head()"
   ]
  },
  {
   "cell_type": "code",
   "execution_count": 3,
   "id": "1d5afb44",
   "metadata": {},
   "outputs": [
    {
     "data": {
      "text/plain": [
       "(438557, 18)"
      ]
     },
     "execution_count": 3,
     "metadata": {},
     "output_type": "execute_result"
    }
   ],
   "source": [
    "df_application.shape"
   ]
  },
  {
   "cell_type": "code",
   "execution_count": 4,
   "id": "fd59c6b0",
   "metadata": {
    "scrolled": false
   },
   "outputs": [
    {
     "data": {
      "text/plain": [
       "Index(['ID', 'CODE_GENDER', 'FLAG_OWN_CAR', 'FLAG_OWN_REALTY', 'CNT_CHILDREN',\n",
       "       'AMT_INCOME_TOTAL', 'NAME_INCOME_TYPE', 'NAME_EDUCATION_TYPE',\n",
       "       'NAME_FAMILY_STATUS', 'NAME_HOUSING_TYPE', 'DAYS_BIRTH',\n",
       "       'DAYS_EMPLOYED', 'FLAG_MOBIL', 'FLAG_WORK_PHONE', 'FLAG_PHONE',\n",
       "       'FLAG_EMAIL', 'OCCUPATION_TYPE', 'CNT_FAM_MEMBERS'],\n",
       "      dtype='object')"
      ]
     },
     "execution_count": 4,
     "metadata": {},
     "output_type": "execute_result"
    }
   ],
   "source": [
    "#Names of columns\n",
    "df_application.columns"
   ]
  },
  {
   "cell_type": "code",
   "execution_count": 6,
   "id": "c31af814",
   "metadata": {},
   "outputs": [
    {
     "data": {
      "text/plain": [
       "Index(['ID', 'Gender', 'Own_Car', 'Own_Property', 'Num_of_Children', 'Income',\n",
       "       'Income_Type', 'Education_Level', 'Marital_Status', 'Housing_Type',\n",
       "       'Date_of_Birth', 'Days_Employed', 'Cell_Number', 'Work_Number',\n",
       "       'Phone_Number', 'Email', 'Occupation_Type', 'Family_Size'],\n",
       "      dtype='object')"
      ]
     },
     "execution_count": 6,
     "metadata": {},
     "output_type": "execute_result"
    }
   ],
   "source": [
    "#Re-name columns\n",
    "df_application = df_application.rename(columns={\"CODE_GENDER\": \"Gender\", \"FLAG_OWN_CAR\": \"Own_Car\", \"FLAG_OWN_REALTY\": \"Own_Property\", \"CNT_CHILDREN\": \"Num_of_Children\", \"AMT_INCOME_TOTAL\": \"Income\", \"NAME_INCOME_TYPE\": \"Income_Type\", \"NAME_EDUCATION_TYPE\": \"Education_Level\", \"NAME_FAMILY_STATUS\": \"Marital_Status\", \"NAME_HOUSING_TYPE\": \"Housing_Type\", \"DAYS_BIRTH\": \"Date_of_Birth\", \"DAYS_EMPLOYED\": \"Days_Employed\", \"FLAG_MOBIL\": \"Cell_Number\", \"FLAG_WORK_PHONE\": \"Work_Number\", \"FLAG_PHONE\": \"Phone_Number\", \"FLAG_EMAIL\": \"Email\", \"OCCUPATION_TYPE\": \"Occupation_Type\", \"CNT_FAM_MEMBERS\": \"Family_Size\"})\n",
    "df_application.columns"
   ]
  },
  {
   "cell_type": "code",
   "execution_count": 7,
   "id": "ba7bd9f1",
   "metadata": {},
   "outputs": [],
   "source": [
    "#Drop unneded columns\n",
    "df_app = df_application.drop(columns=[\"Cell_Number\", \"Work_Number\", \"Phone_Number\", \"Email\"])"
   ]
  },
  {
   "cell_type": "code",
   "execution_count": 8,
   "id": "c0edaa2a",
   "metadata": {},
   "outputs": [
    {
     "data": {
      "text/html": [
       "<div>\n",
       "<style scoped>\n",
       "    .dataframe tbody tr th:only-of-type {\n",
       "        vertical-align: middle;\n",
       "    }\n",
       "\n",
       "    .dataframe tbody tr th {\n",
       "        vertical-align: top;\n",
       "    }\n",
       "\n",
       "    .dataframe thead th {\n",
       "        text-align: right;\n",
       "    }\n",
       "</style>\n",
       "<table border=\"1\" class=\"dataframe\">\n",
       "  <thead>\n",
       "    <tr style=\"text-align: right;\">\n",
       "      <th></th>\n",
       "      <th>ID</th>\n",
       "      <th>MONTHS_BALANCE</th>\n",
       "      <th>STATUS</th>\n",
       "    </tr>\n",
       "  </thead>\n",
       "  <tbody>\n",
       "    <tr>\n",
       "      <th>0</th>\n",
       "      <td>5001711</td>\n",
       "      <td>0</td>\n",
       "      <td>X</td>\n",
       "    </tr>\n",
       "    <tr>\n",
       "      <th>1</th>\n",
       "      <td>5001711</td>\n",
       "      <td>-1</td>\n",
       "      <td>0</td>\n",
       "    </tr>\n",
       "    <tr>\n",
       "      <th>2</th>\n",
       "      <td>5001711</td>\n",
       "      <td>-2</td>\n",
       "      <td>0</td>\n",
       "    </tr>\n",
       "    <tr>\n",
       "      <th>3</th>\n",
       "      <td>5001711</td>\n",
       "      <td>-3</td>\n",
       "      <td>0</td>\n",
       "    </tr>\n",
       "    <tr>\n",
       "      <th>4</th>\n",
       "      <td>5001712</td>\n",
       "      <td>0</td>\n",
       "      <td>C</td>\n",
       "    </tr>\n",
       "  </tbody>\n",
       "</table>\n",
       "</div>"
      ],
      "text/plain": [
       "        ID  MONTHS_BALANCE STATUS\n",
       "0  5001711               0      X\n",
       "1  5001711              -1      0\n",
       "2  5001711              -2      0\n",
       "3  5001711              -3      0\n",
       "4  5001712               0      C"
      ]
     },
     "execution_count": 8,
     "metadata": {},
     "output_type": "execute_result"
    }
   ],
   "source": [
    "#Import Data #2\n",
    "credit = \"credit_record.csv\"\n",
    "df_credit = pd.read_csv(credit)\n",
    "df_credit.head()"
   ]
  },
  {
   "cell_type": "code",
   "execution_count": 9,
   "id": "37730ff9",
   "metadata": {},
   "outputs": [
    {
     "data": {
      "text/plain": [
       "(1048575, 3)"
      ]
     },
     "execution_count": 9,
     "metadata": {},
     "output_type": "execute_result"
    }
   ],
   "source": [
    "df_credit.shape"
   ]
  },
  {
   "cell_type": "code",
   "execution_count": 10,
   "id": "756a382f",
   "metadata": {},
   "outputs": [
    {
     "data": {
      "text/plain": [
       "Index(['ID', 'MONTHS_BALANCE', 'STATUS'], dtype='object')"
      ]
     },
     "execution_count": 10,
     "metadata": {},
     "output_type": "execute_result"
    }
   ],
   "source": [
    "#Names of columns\n",
    "df_credit.columns"
   ]
  },
  {
   "cell_type": "code",
   "execution_count": 11,
   "id": "8a546a06",
   "metadata": {},
   "outputs": [
    {
     "data": {
      "text/plain": [
       "Index(['ID', 'Monthly_Balance', 'Loan_Status'], dtype='object')"
      ]
     },
     "execution_count": 11,
     "metadata": {},
     "output_type": "execute_result"
    }
   ],
   "source": [
    "#Rename columns\n",
    "df_credit = df_credit.rename(columns={\"MONTHS_BALANCE\": \"Monthly_Balance\", \"STATUS\": \"Loan_Status\"})\n",
    "df_credit.columns"
   ]
  },
  {
   "cell_type": "code",
   "execution_count": 12,
   "id": "b11b9d26",
   "metadata": {},
   "outputs": [
    {
     "name": "stdout",
     "output_type": "stream",
     "text": [
      "<class 'pandas.core.frame.DataFrame'>\n",
      "RangeIndex: 438557 entries, 0 to 438556\n",
      "Data columns (total 14 columns):\n",
      " #   Column           Non-Null Count   Dtype  \n",
      "---  ------           --------------   -----  \n",
      " 0   ID               438557 non-null  int64  \n",
      " 1   Gender           438557 non-null  object \n",
      " 2   Own_Car          438557 non-null  object \n",
      " 3   Own_Property     438557 non-null  object \n",
      " 4   Num_of_Children  438557 non-null  int64  \n",
      " 5   Income           438557 non-null  float64\n",
      " 6   Income_Type      438557 non-null  object \n",
      " 7   Education_Level  438557 non-null  object \n",
      " 8   Marital_Status   438557 non-null  object \n",
      " 9   Housing_Type     438557 non-null  object \n",
      " 10  Date_of_Birth    438557 non-null  int64  \n",
      " 11  Days_Employed    438557 non-null  int64  \n",
      " 12  Occupation_Type  304354 non-null  object \n",
      " 13  Family_Size      438557 non-null  float64\n",
      "dtypes: float64(2), int64(4), object(8)\n",
      "memory usage: 46.8+ MB\n"
     ]
    }
   ],
   "source": [
    "#Information about Appliction DataFrame\n",
    "df_app.info()"
   ]
  },
  {
   "cell_type": "code",
   "execution_count": 13,
   "id": "1894bea8",
   "metadata": {},
   "outputs": [
    {
     "data": {
      "text/plain": [
       "ID                   int64\n",
       "Gender              object\n",
       "Own_Car             object\n",
       "Own_Property        object\n",
       "Num_of_Children      int64\n",
       "Income             float64\n",
       "Income_Type         object\n",
       "Education_Level     object\n",
       "Marital_Status      object\n",
       "Housing_Type        object\n",
       "Date_of_Birth        int64\n",
       "Days_Employed        int64\n",
       "Occupation_Type     object\n",
       "Family_Size        float64\n",
       "dtype: object"
      ]
     },
     "execution_count": 13,
     "metadata": {},
     "output_type": "execute_result"
    }
   ],
   "source": [
    "#Find data type of each columns in Application DataFrame\n",
    "df_app.dtypes"
   ]
  },
  {
   "cell_type": "code",
   "execution_count": 14,
   "id": "612d711d",
   "metadata": {},
   "outputs": [
    {
     "data": {
      "text/plain": [
       "F    294440\n",
       "M    144117\n",
       "Name: Gender, dtype: int64"
      ]
     },
     "execution_count": 14,
     "metadata": {},
     "output_type": "execute_result"
    }
   ],
   "source": [
    "#Return all unique values in column\n",
    "df_app[\"Gender\"].value_counts()"
   ]
  },
  {
   "cell_type": "code",
   "execution_count": 15,
   "id": "f40f53df",
   "metadata": {},
   "outputs": [],
   "source": [
    "#Change data type of column\n",
    "df_app[\"Gender\"] = df_app[\"Gender\"].astype(\"category\")"
   ]
  },
  {
   "cell_type": "code",
   "execution_count": 16,
   "id": "a204c264",
   "metadata": {},
   "outputs": [
    {
     "data": {
      "text/plain": [
       "N    275459\n",
       "Y    163098\n",
       "Name: Own_Car, dtype: int64"
      ]
     },
     "execution_count": 16,
     "metadata": {},
     "output_type": "execute_result"
    }
   ],
   "source": [
    "#Return all unique values in column\n",
    "df_app[\"Own_Car\"].value_counts()"
   ]
  },
  {
   "cell_type": "code",
   "execution_count": 17,
   "id": "60960f72",
   "metadata": {},
   "outputs": [],
   "source": [
    "#Change data type of column\n",
    "df_app[\"Own_Car\"] = df_app[\"Own_Car\"].astype(\"bool\")"
   ]
  },
  {
   "cell_type": "code",
   "execution_count": 18,
   "id": "26a816bf",
   "metadata": {},
   "outputs": [
    {
     "data": {
      "text/plain": [
       "Y    304074\n",
       "N    134483\n",
       "Name: Own_Property, dtype: int64"
      ]
     },
     "execution_count": 18,
     "metadata": {},
     "output_type": "execute_result"
    }
   ],
   "source": [
    "#Return all unique values in column\n",
    "df_app[\"Own_Property\"].value_counts()"
   ]
  },
  {
   "cell_type": "code",
   "execution_count": 19,
   "id": "a0d8522d",
   "metadata": {},
   "outputs": [],
   "source": [
    "#Change data type of column\n",
    "df_app[\"Own_Property\"] = df_app[\"Own_Property\"].astype(\"bool\")"
   ]
  },
  {
   "cell_type": "code",
   "execution_count": 20,
   "id": "ba73e5ec",
   "metadata": {},
   "outputs": [
    {
     "data": {
      "text/plain": [
       "Working                 226104\n",
       "Commercial associate    100757\n",
       "Pensioner                75493\n",
       "State servant            36186\n",
       "Student                     17\n",
       "Name: Income_Type, dtype: int64"
      ]
     },
     "execution_count": 20,
     "metadata": {},
     "output_type": "execute_result"
    }
   ],
   "source": [
    "#Return all unique values in column\n",
    "df_app[\"Income_Type\"].value_counts()"
   ]
  },
  {
   "cell_type": "code",
   "execution_count": 21,
   "id": "447c1ce6",
   "metadata": {},
   "outputs": [],
   "source": [
    "#Change data type of column\n",
    "df_app[\"Income_Type\"] = df_app[\"Income_Type\"].astype(\"category\")"
   ]
  },
  {
   "cell_type": "code",
   "execution_count": 22,
   "id": "1de96f9a",
   "metadata": {},
   "outputs": [
    {
     "data": {
      "text/plain": [
       "Secondary / secondary special    301821\n",
       "Higher education                 117522\n",
       "Incomplete higher                 14851\n",
       "Lower secondary                    4051\n",
       "Academic degree                     312\n",
       "Name: Education_Level, dtype: int64"
      ]
     },
     "execution_count": 22,
     "metadata": {},
     "output_type": "execute_result"
    }
   ],
   "source": [
    "#Return all unique values in column\n",
    "df_app[\"Education_Level\"].value_counts()"
   ]
  },
  {
   "cell_type": "code",
   "execution_count": 23,
   "id": "a74ba031",
   "metadata": {},
   "outputs": [],
   "source": [
    "#Change data type of column\n",
    "df_app[\"Education_Level\"] = df_app[\"Education_Level\"].astype(\"category\")"
   ]
  },
  {
   "cell_type": "code",
   "execution_count": 24,
   "id": "d5650c95",
   "metadata": {},
   "outputs": [
    {
     "data": {
      "text/plain": [
       "Married                 299828\n",
       "Single / not married     55271\n",
       "Civil marriage           36532\n",
       "Separated                27251\n",
       "Widow                    19675\n",
       "Name: Marital_Status, dtype: int64"
      ]
     },
     "execution_count": 24,
     "metadata": {},
     "output_type": "execute_result"
    }
   ],
   "source": [
    "#Return all unique values in column\n",
    "df_app[\"Marital_Status\"].value_counts()"
   ]
  },
  {
   "cell_type": "code",
   "execution_count": 25,
   "id": "e74b9533",
   "metadata": {},
   "outputs": [],
   "source": [
    "#Change data type of column\n",
    "df_app[\"Marital_Status\"] = df_app[\"Marital_Status\"].astype(\"category\")"
   ]
  },
  {
   "cell_type": "code",
   "execution_count": 26,
   "id": "3e636a6f",
   "metadata": {},
   "outputs": [
    {
     "data": {
      "text/plain": [
       "House / apartment      393831\n",
       "With parents            19077\n",
       "Municipal apartment     14214\n",
       "Rented apartment         5974\n",
       "Office apartment         3922\n",
       "Co-op apartment          1539\n",
       "Name: Housing_Type, dtype: int64"
      ]
     },
     "execution_count": 26,
     "metadata": {},
     "output_type": "execute_result"
    }
   ],
   "source": [
    "#Return all unique values in column\n",
    "df_app[\"Housing_Type\"].value_counts()"
   ]
  },
  {
   "cell_type": "code",
   "execution_count": 27,
   "id": "9e8cbd01",
   "metadata": {},
   "outputs": [],
   "source": [
    "#Change data type of column\n",
    "df_app[\"Housing_Type\"] = df_app[\"Housing_Type\"].astype(\"category\")"
   ]
  },
  {
   "cell_type": "code",
   "execution_count": 28,
   "id": "b7239e82",
   "metadata": {
    "scrolled": true
   },
   "outputs": [
    {
     "data": {
      "text/plain": [
       "2.0     233891\n",
       "1.0      84492\n",
       "3.0      77128\n",
       "4.0      37356\n",
       "5.0       5081\n",
       "6.0        459\n",
       "7.0        124\n",
       "9.0          9\n",
       "11.0         5\n",
       "14.0         4\n",
       "8.0          4\n",
       "15.0         3\n",
       "20.0         1\n",
       "Name: Family_Size, dtype: int64"
      ]
     },
     "execution_count": 28,
     "metadata": {},
     "output_type": "execute_result"
    }
   ],
   "source": [
    "#Return all unique values in column\n",
    "df_app[\"Family_Size\"].value_counts()"
   ]
  },
  {
   "cell_type": "code",
   "execution_count": 29,
   "id": "74618863",
   "metadata": {},
   "outputs": [],
   "source": [
    "#Change data type of column\n",
    "df_app[\"Family_Size\"] = df_app[\"Family_Size\"].astype(\"int\")"
   ]
  },
  {
   "cell_type": "code",
   "execution_count": 30,
   "id": "0997730d",
   "metadata": {},
   "outputs": [
    {
     "data": {
      "text/plain": [
       "-11707    150\n",
       "-14178    121\n",
       "-14400    116\n",
       "-13482    112\n",
       "-13274    112\n",
       "         ... \n",
       "-8207       1\n",
       "-8286       1\n",
       "-12793      1\n",
       "-24592      1\n",
       "-8590       1\n",
       "Name: Date_of_Birth, Length: 16379, dtype: int64"
      ]
     },
     "execution_count": 30,
     "metadata": {},
     "output_type": "execute_result"
    }
   ],
   "source": [
    "#Return all unique values in column\n",
    "df_app[\"Date_of_Birth\"].value_counts()"
   ]
  },
  {
   "cell_type": "code",
   "execution_count": 31,
   "id": "c012ba68",
   "metadata": {},
   "outputs": [
    {
     "data": {
      "text/plain": [
       "0"
      ]
     },
     "execution_count": 31,
     "metadata": {},
     "output_type": "execute_result"
    }
   ],
   "source": [
    "#Date_of_Birth column counts days since birth backwards from current day\n",
    "#Goal: Convert Date_of_Birth column to DateTime Format\n",
    "#Check for any missing value\n",
    "df_app[\"Date_of_Birth\"].isna().sum()"
   ]
  },
  {
   "cell_type": "code",
   "execution_count": 32,
   "id": "e8b04696",
   "metadata": {},
   "outputs": [
    {
     "data": {
      "text/plain": [
       "0"
      ]
     },
     "execution_count": 32,
     "metadata": {},
     "output_type": "execute_result"
    }
   ],
   "source": [
    "#Values '0' or any positive value means person was born today or in the future\n",
    "sum(df_app[\"Date_of_Birth\"] >= 0)"
   ]
  },
  {
   "cell_type": "code",
   "execution_count": 33,
   "id": "fc711336",
   "metadata": {},
   "outputs": [
    {
     "data": {
      "text/plain": [
       "0"
      ]
     },
     "execution_count": 33,
     "metadata": {},
     "output_type": "execute_result"
    }
   ],
   "source": [
    "#Convert all negative values to postive values\n",
    "df_app[\"Date_of_Birth\"] = df_app[\"Date_of_Birth\"].abs()\n",
    "sum(df_app[\"Date_of_Birth\"] <= 0)"
   ]
  },
  {
   "cell_type": "code",
   "execution_count": 34,
   "id": "bf866eed",
   "metadata": {},
   "outputs": [
    {
     "data": {
      "text/plain": [
       "0        1990-09-22 16:28:04.688849\n",
       "1        1990-09-22 16:28:04.688849\n",
       "2        1964-10-19 16:28:04.688849\n",
       "3        1971-04-10 16:28:04.688849\n",
       "4        1971-04-10 16:28:04.688849\n",
       "                    ...            \n",
       "438552   1961-05-25 16:28:04.688849\n",
       "438553   1979-12-15 16:28:04.688849\n",
       "438554   2001-03-24 16:28:04.688849\n",
       "438555   1964-04-03 16:28:04.688849\n",
       "438556   1971-12-18 16:28:04.688849\n",
       "Name: Date_of_Birth, Length: 438557, dtype: datetime64[ns]"
      ]
     },
     "execution_count": 34,
     "metadata": {},
     "output_type": "execute_result"
    }
   ],
   "source": [
    "#Convert Days_Birth into DateTime Format\n",
    "from datetime import datetime, timedelta, date\n",
    "today_date = datetime.now()\n",
    "df_app[\"Date_of_Birth\"] = today_date - pd.to_timedelta(df_app[\"Date_of_Birth\"], unit= \"d\")\n",
    "df_app[\"Date_of_Birth\"] = df_app[\"Date_of_Birth\"].astype(\"datetime64\")\n",
    "df_app[\"Date_of_Birth\"]"
   ]
  },
  {
   "cell_type": "code",
   "execution_count": 35,
   "id": "119bec19",
   "metadata": {},
   "outputs": [
    {
     "data": {
      "text/plain": [
       "0         09-22-1990\n",
       "1         09-22-1990\n",
       "2         10-19-1964\n",
       "3         04-10-1971\n",
       "4         04-10-1971\n",
       "             ...    \n",
       "438552    05-25-1961\n",
       "438553    12-15-1979\n",
       "438554    03-24-2001\n",
       "438555    04-03-1964\n",
       "438556    12-18-1971\n",
       "Name: Date_of_Birth, Length: 438557, dtype: object"
      ]
     },
     "execution_count": 35,
     "metadata": {},
     "output_type": "execute_result"
    }
   ],
   "source": [
    "#Change format of Date_of_Birth to DD-MM-YYYY\n",
    "df_app[\"Date_of_Birth\"] = df_app[\"Date_of_Birth\"].dt.normalize()\n",
    "df_app[\"Date_of_Birth\"] = df_app[\"Date_of_Birth\"].dt.strftime('%m-%d-%Y')\n",
    "df_app[\"Date_of_Birth\"]"
   ]
  },
  {
   "cell_type": "code",
   "execution_count": 36,
   "id": "bd957917",
   "metadata": {},
   "outputs": [
    {
     "data": {
      "text/html": [
       "<div>\n",
       "<style scoped>\n",
       "    .dataframe tbody tr th:only-of-type {\n",
       "        vertical-align: middle;\n",
       "    }\n",
       "\n",
       "    .dataframe tbody tr th {\n",
       "        vertical-align: top;\n",
       "    }\n",
       "\n",
       "    .dataframe thead th {\n",
       "        text-align: right;\n",
       "    }\n",
       "</style>\n",
       "<table border=\"1\" class=\"dataframe\">\n",
       "  <thead>\n",
       "    <tr style=\"text-align: right;\">\n",
       "      <th></th>\n",
       "      <th>DOB</th>\n",
       "      <th>Age</th>\n",
       "    </tr>\n",
       "  </thead>\n",
       "  <tbody>\n",
       "    <tr>\n",
       "      <th>0</th>\n",
       "      <td>09-22-1990</td>\n",
       "      <td>32</td>\n",
       "    </tr>\n",
       "    <tr>\n",
       "      <th>1</th>\n",
       "      <td>09-22-1990</td>\n",
       "      <td>32</td>\n",
       "    </tr>\n",
       "    <tr>\n",
       "      <th>2</th>\n",
       "      <td>10-19-1964</td>\n",
       "      <td>58</td>\n",
       "    </tr>\n",
       "    <tr>\n",
       "      <th>3</th>\n",
       "      <td>04-10-1971</td>\n",
       "      <td>52</td>\n",
       "    </tr>\n",
       "    <tr>\n",
       "      <th>4</th>\n",
       "      <td>04-10-1971</td>\n",
       "      <td>52</td>\n",
       "    </tr>\n",
       "    <tr>\n",
       "      <th>...</th>\n",
       "      <td>...</td>\n",
       "      <td>...</td>\n",
       "    </tr>\n",
       "    <tr>\n",
       "      <th>438552</th>\n",
       "      <td>05-25-1961</td>\n",
       "      <td>62</td>\n",
       "    </tr>\n",
       "    <tr>\n",
       "      <th>438553</th>\n",
       "      <td>12-15-1979</td>\n",
       "      <td>43</td>\n",
       "    </tr>\n",
       "    <tr>\n",
       "      <th>438554</th>\n",
       "      <td>03-24-2001</td>\n",
       "      <td>22</td>\n",
       "    </tr>\n",
       "    <tr>\n",
       "      <th>438555</th>\n",
       "      <td>04-03-1964</td>\n",
       "      <td>59</td>\n",
       "    </tr>\n",
       "    <tr>\n",
       "      <th>438556</th>\n",
       "      <td>12-18-1971</td>\n",
       "      <td>51</td>\n",
       "    </tr>\n",
       "  </tbody>\n",
       "</table>\n",
       "<p>438557 rows × 2 columns</p>\n",
       "</div>"
      ],
      "text/plain": [
       "               DOB  Age\n",
       "0       09-22-1990   32\n",
       "1       09-22-1990   32\n",
       "2       10-19-1964   58\n",
       "3       04-10-1971   52\n",
       "4       04-10-1971   52\n",
       "...            ...  ...\n",
       "438552  05-25-1961   62\n",
       "438553  12-15-1979   43\n",
       "438554  03-24-2001   22\n",
       "438555  04-03-1964   59\n",
       "438556  12-18-1971   51\n",
       "\n",
       "[438557 rows x 2 columns]"
      ]
     },
     "metadata": {},
     "output_type": "display_data"
    }
   ],
   "source": [
    "#Calculate Age from Data_of_Birth\n",
    "import datetime\n",
    "list_dob = list(df_app[\"Date_of_Birth\"].astype(\"str\"))\n",
    "dob = {\"DOB\": list_dob} \n",
    "df = pd.DataFrame(data = dob)\n",
    "\n",
    "def age(birth_date):\n",
    "    birth_date = datetime.datetime.strptime(birth_date, \"%m-%d-%Y\").date()\n",
    "    today = date.today()\n",
    "    return today.year - birth_date.year - ((today.month, today.day) < (birth_date.month, birth_date.day))\n",
    "df[\"Age\"] = df[\"DOB\"].apply(age)\n",
    "display(df)"
   ]
  },
  {
   "cell_type": "code",
   "execution_count": 37,
   "id": "82baa0aa",
   "metadata": {},
   "outputs": [],
   "source": [
    "#Add Age as a column of DataFrame\n",
    "df_app[\"Age\"] = df[\"Age\"]"
   ]
  },
  {
   "cell_type": "code",
   "execution_count": 39,
   "id": "f9c82c1b",
   "metadata": {},
   "outputs": [
    {
     "data": {
      "text/plain": [
       " 365243    75329\n",
       "-218         262\n",
       "-1678        251\n",
       "-249         241\n",
       "-978         240\n",
       "           ...  \n",
       "-13529         1\n",
       "-10223         1\n",
       "-8917          1\n",
       "-11429         1\n",
       "-8105          1\n",
       "Name: Days_Employed, Length: 9406, dtype: int64"
      ]
     },
     "execution_count": 39,
     "metadata": {},
     "output_type": "execute_result"
    }
   ],
   "source": [
    "#Return all unique values in column\n",
    "df_app[\"Days_Employed\"].value_counts()"
   ]
  },
  {
   "cell_type": "code",
   "execution_count": 40,
   "id": "7ea91ad2",
   "metadata": {},
   "outputs": [],
   "source": [
    "#Days_Employeed column counts days of employment backwords from current day. Positive values mean unemployed.\n",
    "#Add a column for Employment status\n",
    "df_app[\"Employed\"] = df_app[\"Days_Employed\"] < 0\n",
    "df_app[\"Employed\"] = df_app[\"Employed\"].astype(\"bool\")"
   ]
  },
  {
   "cell_type": "code",
   "execution_count": 41,
   "id": "ae83d212",
   "metadata": {},
   "outputs": [
    {
     "data": {
      "text/plain": [
       "135000.0    46879\n",
       "157500.0    39768\n",
       "180000.0    37912\n",
       "112500.0    36979\n",
       "225000.0    34130\n",
       "            ...  \n",
       "151425.0        1\n",
       "133461.0        1\n",
       "265950.0        1\n",
       "201150.0        1\n",
       "36679.5         1\n",
       "Name: Income, Length: 866, dtype: int64"
      ]
     },
     "execution_count": 41,
     "metadata": {},
     "output_type": "execute_result"
    }
   ],
   "source": [
    "#Return all unique values in column\n",
    "df_app[\"Income\"].value_counts()"
   ]
  },
  {
   "cell_type": "code",
   "execution_count": 42,
   "id": "a6be9704",
   "metadata": {},
   "outputs": [
    {
     "data": {
      "text/html": [
       "<div>\n",
       "<style scoped>\n",
       "    .dataframe tbody tr th:only-of-type {\n",
       "        vertical-align: middle;\n",
       "    }\n",
       "\n",
       "    .dataframe tbody tr th {\n",
       "        vertical-align: top;\n",
       "    }\n",
       "\n",
       "    .dataframe thead th {\n",
       "        text-align: right;\n",
       "    }\n",
       "</style>\n",
       "<table border=\"1\" class=\"dataframe\">\n",
       "  <thead>\n",
       "    <tr style=\"text-align: right;\">\n",
       "      <th></th>\n",
       "      <th>Income_level</th>\n",
       "      <th>Income</th>\n",
       "    </tr>\n",
       "  </thead>\n",
       "  <tbody>\n",
       "    <tr>\n",
       "      <th>0</th>\n",
       "      <td>500K+</td>\n",
       "      <td>427500.0</td>\n",
       "    </tr>\n",
       "    <tr>\n",
       "      <th>1</th>\n",
       "      <td>500K+</td>\n",
       "      <td>427500.0</td>\n",
       "    </tr>\n",
       "    <tr>\n",
       "      <th>2</th>\n",
       "      <td>0-100k</td>\n",
       "      <td>112500.0</td>\n",
       "    </tr>\n",
       "    <tr>\n",
       "      <th>3</th>\n",
       "      <td>400K-500K</td>\n",
       "      <td>270000.0</td>\n",
       "    </tr>\n",
       "    <tr>\n",
       "      <th>4</th>\n",
       "      <td>400K-500K</td>\n",
       "      <td>270000.0</td>\n",
       "    </tr>\n",
       "    <tr>\n",
       "      <th>...</th>\n",
       "      <td>...</td>\n",
       "      <td>...</td>\n",
       "    </tr>\n",
       "    <tr>\n",
       "      <th>438552</th>\n",
       "      <td>100K-200K</td>\n",
       "      <td>135000.0</td>\n",
       "    </tr>\n",
       "    <tr>\n",
       "      <th>438553</th>\n",
       "      <td>0-100k</td>\n",
       "      <td>103500.0</td>\n",
       "    </tr>\n",
       "    <tr>\n",
       "      <th>438554</th>\n",
       "      <td>0-100k</td>\n",
       "      <td>54000.0</td>\n",
       "    </tr>\n",
       "    <tr>\n",
       "      <th>438555</th>\n",
       "      <td>0-100k</td>\n",
       "      <td>72000.0</td>\n",
       "    </tr>\n",
       "    <tr>\n",
       "      <th>438556</th>\n",
       "      <td>100K-200K</td>\n",
       "      <td>121500.0</td>\n",
       "    </tr>\n",
       "  </tbody>\n",
       "</table>\n",
       "<p>438557 rows × 2 columns</p>\n",
       "</div>"
      ],
      "text/plain": [
       "       Income_level    Income\n",
       "0             500K+  427500.0\n",
       "1             500K+  427500.0\n",
       "2            0-100k  112500.0\n",
       "3         400K-500K  270000.0\n",
       "4         400K-500K  270000.0\n",
       "...             ...       ...\n",
       "438552    100K-200K  135000.0\n",
       "438553       0-100k  103500.0\n",
       "438554       0-100k   54000.0\n",
       "438555       0-100k   72000.0\n",
       "438556    100K-200K  121500.0\n",
       "\n",
       "[438557 rows x 2 columns]"
      ]
     },
     "execution_count": 42,
     "metadata": {},
     "output_type": "execute_result"
    }
   ],
   "source": [
    "#Break Income column into categories\n",
    "#Create Income_Level categories\n",
    "group_names = [\"0-100k\", \"100K-200K\", \"200K-300K\", \"300K-400K\", \"400K-500K\", \"500K+\"]\n",
    "df_app[\"Income_level\"] = pd.qcut(df_app[\"Income\"], q=6, labels=group_names)\n",
    "df_app[[\"Income_level\", \"Income\"]]"
   ]
  },
  {
   "cell_type": "code",
   "execution_count": 44,
   "id": "d9594674",
   "metadata": {},
   "outputs": [
    {
     "data": {
      "text/html": [
       "<div>\n",
       "<style scoped>\n",
       "    .dataframe tbody tr th:only-of-type {\n",
       "        vertical-align: middle;\n",
       "    }\n",
       "\n",
       "    .dataframe tbody tr th {\n",
       "        vertical-align: top;\n",
       "    }\n",
       "\n",
       "    .dataframe thead th {\n",
       "        text-align: right;\n",
       "    }\n",
       "</style>\n",
       "<table border=\"1\" class=\"dataframe\">\n",
       "  <thead>\n",
       "    <tr style=\"text-align: right;\">\n",
       "      <th></th>\n",
       "      <th>Income_level</th>\n",
       "      <th>Income</th>\n",
       "    </tr>\n",
       "  </thead>\n",
       "  <tbody>\n",
       "    <tr>\n",
       "      <th>0</th>\n",
       "      <td>400K-500K</td>\n",
       "      <td>427500.0</td>\n",
       "    </tr>\n",
       "    <tr>\n",
       "      <th>1</th>\n",
       "      <td>400K-500K</td>\n",
       "      <td>427500.0</td>\n",
       "    </tr>\n",
       "    <tr>\n",
       "      <th>2</th>\n",
       "      <td>100K-200K</td>\n",
       "      <td>112500.0</td>\n",
       "    </tr>\n",
       "    <tr>\n",
       "      <th>3</th>\n",
       "      <td>200K-300K</td>\n",
       "      <td>270000.0</td>\n",
       "    </tr>\n",
       "    <tr>\n",
       "      <th>4</th>\n",
       "      <td>200K-300K</td>\n",
       "      <td>270000.0</td>\n",
       "    </tr>\n",
       "    <tr>\n",
       "      <th>...</th>\n",
       "      <td>...</td>\n",
       "      <td>...</td>\n",
       "    </tr>\n",
       "    <tr>\n",
       "      <th>438552</th>\n",
       "      <td>100K-200K</td>\n",
       "      <td>135000.0</td>\n",
       "    </tr>\n",
       "    <tr>\n",
       "      <th>438553</th>\n",
       "      <td>100K-200K</td>\n",
       "      <td>103500.0</td>\n",
       "    </tr>\n",
       "    <tr>\n",
       "      <th>438554</th>\n",
       "      <td>0-100k</td>\n",
       "      <td>54000.0</td>\n",
       "    </tr>\n",
       "    <tr>\n",
       "      <th>438555</th>\n",
       "      <td>0-100k</td>\n",
       "      <td>72000.0</td>\n",
       "    </tr>\n",
       "    <tr>\n",
       "      <th>438556</th>\n",
       "      <td>100K-200K</td>\n",
       "      <td>121500.0</td>\n",
       "    </tr>\n",
       "  </tbody>\n",
       "</table>\n",
       "<p>438557 rows × 2 columns</p>\n",
       "</div>"
      ],
      "text/plain": [
       "       Income_level    Income\n",
       "0         400K-500K  427500.0\n",
       "1         400K-500K  427500.0\n",
       "2         100K-200K  112500.0\n",
       "3         200K-300K  270000.0\n",
       "4         200K-300K  270000.0\n",
       "...             ...       ...\n",
       "438552    100K-200K  135000.0\n",
       "438553    100K-200K  103500.0\n",
       "438554       0-100k   54000.0\n",
       "438555       0-100k   72000.0\n",
       "438556    100K-200K  121500.0\n",
       "\n",
       "[438557 rows x 2 columns]"
      ]
     },
     "execution_count": 44,
     "metadata": {},
     "output_type": "execute_result"
    }
   ],
   "source": [
    "#Assign Income values to Income_Level Categories\n",
    "import numpy as np\n",
    "ranges = [0,100000,200000,300000,400000,500000,np.inf]\n",
    "df_app[\"Income_level\"] = pd.cut(df_app[\"Income\"], bins=ranges, labels=group_names)\n",
    "df_app[[\"Income_level\", \"Income\"]]"
   ]
  },
  {
   "cell_type": "code",
   "execution_count": 45,
   "id": "b2f4e80e",
   "metadata": {},
   "outputs": [],
   "source": [
    "#Add Invome_Level as a column of dataframe\n",
    "df_app[\"Income_level\"] = df_app[\"Income_level\"].astype(\"category\")"
   ]
  },
  {
   "cell_type": "code",
   "execution_count": 46,
   "id": "01c23f54",
   "metadata": {},
   "outputs": [
    {
     "data": {
      "text/html": [
       "<div>\n",
       "<style scoped>\n",
       "    .dataframe tbody tr th:only-of-type {\n",
       "        vertical-align: middle;\n",
       "    }\n",
       "\n",
       "    .dataframe tbody tr th {\n",
       "        vertical-align: top;\n",
       "    }\n",
       "\n",
       "    .dataframe thead th {\n",
       "        text-align: right;\n",
       "    }\n",
       "</style>\n",
       "<table border=\"1\" class=\"dataframe\">\n",
       "  <thead>\n",
       "    <tr style=\"text-align: right;\">\n",
       "      <th></th>\n",
       "      <th>ID</th>\n",
       "      <th>Gender</th>\n",
       "      <th>Own_Car</th>\n",
       "      <th>Own_Property</th>\n",
       "      <th>Num_of_Children</th>\n",
       "      <th>Income</th>\n",
       "      <th>Income_Type</th>\n",
       "      <th>Education_Level</th>\n",
       "      <th>Marital_Status</th>\n",
       "      <th>Housing_Type</th>\n",
       "      <th>Date_of_Birth</th>\n",
       "      <th>Days_Employed</th>\n",
       "      <th>Occupation_Type</th>\n",
       "      <th>Family_Size</th>\n",
       "      <th>Age</th>\n",
       "      <th>Employed</th>\n",
       "      <th>Income_level</th>\n",
       "    </tr>\n",
       "  </thead>\n",
       "  <tbody>\n",
       "    <tr>\n",
       "      <th>0</th>\n",
       "      <td>5008804</td>\n",
       "      <td>M</td>\n",
       "      <td>True</td>\n",
       "      <td>True</td>\n",
       "      <td>0</td>\n",
       "      <td>427500.0</td>\n",
       "      <td>Working</td>\n",
       "      <td>Higher education</td>\n",
       "      <td>Civil marriage</td>\n",
       "      <td>Rented apartment</td>\n",
       "      <td>09-22-1990</td>\n",
       "      <td>-4542</td>\n",
       "      <td>NaN</td>\n",
       "      <td>2</td>\n",
       "      <td>32</td>\n",
       "      <td>True</td>\n",
       "      <td>400K-500K</td>\n",
       "    </tr>\n",
       "    <tr>\n",
       "      <th>1</th>\n",
       "      <td>5008805</td>\n",
       "      <td>M</td>\n",
       "      <td>True</td>\n",
       "      <td>True</td>\n",
       "      <td>0</td>\n",
       "      <td>427500.0</td>\n",
       "      <td>Working</td>\n",
       "      <td>Higher education</td>\n",
       "      <td>Civil marriage</td>\n",
       "      <td>Rented apartment</td>\n",
       "      <td>09-22-1990</td>\n",
       "      <td>-4542</td>\n",
       "      <td>NaN</td>\n",
       "      <td>2</td>\n",
       "      <td>32</td>\n",
       "      <td>True</td>\n",
       "      <td>400K-500K</td>\n",
       "    </tr>\n",
       "    <tr>\n",
       "      <th>2</th>\n",
       "      <td>5008806</td>\n",
       "      <td>M</td>\n",
       "      <td>True</td>\n",
       "      <td>True</td>\n",
       "      <td>0</td>\n",
       "      <td>112500.0</td>\n",
       "      <td>Working</td>\n",
       "      <td>Secondary / secondary special</td>\n",
       "      <td>Married</td>\n",
       "      <td>House / apartment</td>\n",
       "      <td>10-19-1964</td>\n",
       "      <td>-1134</td>\n",
       "      <td>Security staff</td>\n",
       "      <td>2</td>\n",
       "      <td>58</td>\n",
       "      <td>True</td>\n",
       "      <td>100K-200K</td>\n",
       "    </tr>\n",
       "    <tr>\n",
       "      <th>3</th>\n",
       "      <td>5008808</td>\n",
       "      <td>F</td>\n",
       "      <td>True</td>\n",
       "      <td>True</td>\n",
       "      <td>0</td>\n",
       "      <td>270000.0</td>\n",
       "      <td>Commercial associate</td>\n",
       "      <td>Secondary / secondary special</td>\n",
       "      <td>Single / not married</td>\n",
       "      <td>House / apartment</td>\n",
       "      <td>04-10-1971</td>\n",
       "      <td>-3051</td>\n",
       "      <td>Sales staff</td>\n",
       "      <td>1</td>\n",
       "      <td>52</td>\n",
       "      <td>True</td>\n",
       "      <td>200K-300K</td>\n",
       "    </tr>\n",
       "    <tr>\n",
       "      <th>4</th>\n",
       "      <td>5008809</td>\n",
       "      <td>F</td>\n",
       "      <td>True</td>\n",
       "      <td>True</td>\n",
       "      <td>0</td>\n",
       "      <td>270000.0</td>\n",
       "      <td>Commercial associate</td>\n",
       "      <td>Secondary / secondary special</td>\n",
       "      <td>Single / not married</td>\n",
       "      <td>House / apartment</td>\n",
       "      <td>04-10-1971</td>\n",
       "      <td>-3051</td>\n",
       "      <td>Sales staff</td>\n",
       "      <td>1</td>\n",
       "      <td>52</td>\n",
       "      <td>True</td>\n",
       "      <td>200K-300K</td>\n",
       "    </tr>\n",
       "  </tbody>\n",
       "</table>\n",
       "</div>"
      ],
      "text/plain": [
       "        ID Gender  Own_Car  Own_Property  Num_of_Children    Income  \\\n",
       "0  5008804      M     True          True                0  427500.0   \n",
       "1  5008805      M     True          True                0  427500.0   \n",
       "2  5008806      M     True          True                0  112500.0   \n",
       "3  5008808      F     True          True                0  270000.0   \n",
       "4  5008809      F     True          True                0  270000.0   \n",
       "\n",
       "            Income_Type                Education_Level        Marital_Status  \\\n",
       "0               Working               Higher education        Civil marriage   \n",
       "1               Working               Higher education        Civil marriage   \n",
       "2               Working  Secondary / secondary special               Married   \n",
       "3  Commercial associate  Secondary / secondary special  Single / not married   \n",
       "4  Commercial associate  Secondary / secondary special  Single / not married   \n",
       "\n",
       "        Housing_Type Date_of_Birth  Days_Employed Occupation_Type  \\\n",
       "0   Rented apartment    09-22-1990          -4542             NaN   \n",
       "1   Rented apartment    09-22-1990          -4542             NaN   \n",
       "2  House / apartment    10-19-1964          -1134  Security staff   \n",
       "3  House / apartment    04-10-1971          -3051     Sales staff   \n",
       "4  House / apartment    04-10-1971          -3051     Sales staff   \n",
       "\n",
       "   Family_Size  Age  Employed Income_level  \n",
       "0            2   32      True    400K-500K  \n",
       "1            2   32      True    400K-500K  \n",
       "2            2   58      True    100K-200K  \n",
       "3            1   52      True    200K-300K  \n",
       "4            1   52      True    200K-300K  "
      ]
     },
     "execution_count": 46,
     "metadata": {},
     "output_type": "execute_result"
    }
   ],
   "source": [
    "df_app.head(5)"
   ]
  },
  {
   "cell_type": "code",
   "execution_count": 50,
   "id": "07443b5e",
   "metadata": {},
   "outputs": [
    {
     "name": "stdout",
     "output_type": "stream",
     "text": [
      "<class 'pandas.core.frame.DataFrame'>\n",
      "RangeIndex: 438557 entries, 0 to 438556\n",
      "Data columns (total 17 columns):\n",
      " #   Column           Non-Null Count   Dtype   \n",
      "---  ------           --------------   -----   \n",
      " 0   ID               438557 non-null  int64   \n",
      " 1   Gender           438557 non-null  category\n",
      " 2   Own_Car          438557 non-null  bool    \n",
      " 3   Own_Property     438557 non-null  bool    \n",
      " 4   Num_of_Children  438557 non-null  int64   \n",
      " 5   Income           438557 non-null  float64 \n",
      " 6   Income_Type      438557 non-null  category\n",
      " 7   Education_Level  438557 non-null  category\n",
      " 8   Marital_Status   438557 non-null  category\n",
      " 9   Housing_Type     438557 non-null  category\n",
      " 10  Date_of_Birth    438557 non-null  object  \n",
      " 11  Days_Employed    438557 non-null  int64   \n",
      " 12  Occupation_Type  304354 non-null  object  \n",
      " 13  Family_Size      438557 non-null  int32   \n",
      " 14  Age              438557 non-null  int64   \n",
      " 15  Employed         438557 non-null  bool    \n",
      " 16  Income_level     438557 non-null  category\n",
      "dtypes: bool(3), category(6), float64(1), int32(1), int64(4), object(2)\n",
      "memory usage: 28.9+ MB\n"
     ]
    }
   ],
   "source": [
    "df_app.info()"
   ]
  },
  {
   "cell_type": "code",
   "execution_count": 51,
   "id": "273488b7",
   "metadata": {},
   "outputs": [
    {
     "data": {
      "text/plain": [
       "ID                      0\n",
       "Gender                  0\n",
       "Own_Car                 0\n",
       "Own_Property            0\n",
       "Num_of_Children         0\n",
       "Income                  0\n",
       "Income_Type             0\n",
       "Education_Level         0\n",
       "Marital_Status          0\n",
       "Housing_Type            0\n",
       "Date_of_Birth           0\n",
       "Days_Employed           0\n",
       "Occupation_Type    134203\n",
       "Family_Size             0\n",
       "Age                     0\n",
       "Employed                0\n",
       "Income_level            0\n",
       "dtype: int64"
      ]
     },
     "execution_count": 51,
     "metadata": {},
     "output_type": "execute_result"
    }
   ],
   "source": [
    "#Check for null values\n",
    "df_app.isnull().sum()"
   ]
  },
  {
   "cell_type": "code",
   "execution_count": 52,
   "id": "99e63d91",
   "metadata": {},
   "outputs": [
    {
     "data": {
      "text/plain": [
       "(94, 17)"
      ]
     },
     "execution_count": 52,
     "metadata": {},
     "output_type": "execute_result"
    }
   ],
   "source": [
    "#Check for duplicate IDs\n",
    "dup = df_app[df_app[\"ID\"].duplicated(keep=False)]\n",
    "dup.shape"
   ]
  },
  {
   "cell_type": "code",
   "execution_count": 63,
   "id": "9ffce77e",
   "metadata": {},
   "outputs": [
    {
     "data": {
      "text/html": [
       "<div>\n",
       "<style scoped>\n",
       "    .dataframe tbody tr th:only-of-type {\n",
       "        vertical-align: middle;\n",
       "    }\n",
       "\n",
       "    .dataframe tbody tr th {\n",
       "        vertical-align: top;\n",
       "    }\n",
       "\n",
       "    .dataframe thead th {\n",
       "        text-align: right;\n",
       "    }\n",
       "</style>\n",
       "<table border=\"1\" class=\"dataframe\">\n",
       "  <thead>\n",
       "    <tr style=\"text-align: right;\">\n",
       "      <th></th>\n",
       "      <th>ID</th>\n",
       "      <th>Gender</th>\n",
       "      <th>Own_Car</th>\n",
       "      <th>Own_Property</th>\n",
       "      <th>Num_of_Children</th>\n",
       "      <th>Income</th>\n",
       "      <th>Income_Type</th>\n",
       "      <th>Education_Level</th>\n",
       "      <th>Marital_Status</th>\n",
       "      <th>Housing_Type</th>\n",
       "      <th>Date_of_Birth</th>\n",
       "      <th>Days_Employed</th>\n",
       "      <th>Occupation_Type</th>\n",
       "      <th>Family_Size</th>\n",
       "      <th>Age</th>\n",
       "      <th>Employed</th>\n",
       "      <th>Income_level</th>\n",
       "    </tr>\n",
       "  </thead>\n",
       "  <tbody>\n",
       "    <tr>\n",
       "      <th>426818</th>\n",
       "      <td>7022197</td>\n",
       "      <td>M</td>\n",
       "      <td>True</td>\n",
       "      <td>True</td>\n",
       "      <td>3</td>\n",
       "      <td>135000.0</td>\n",
       "      <td>Working</td>\n",
       "      <td>Secondary / secondary special</td>\n",
       "      <td>Married</td>\n",
       "      <td>House / apartment</td>\n",
       "      <td>11-21-1990</td>\n",
       "      <td>-735</td>\n",
       "      <td>Laborers</td>\n",
       "      <td>5</td>\n",
       "      <td>32</td>\n",
       "      <td>True</td>\n",
       "      <td>100K-200K</td>\n",
       "    </tr>\n",
       "    <tr>\n",
       "      <th>425023</th>\n",
       "      <td>7022197</td>\n",
       "      <td>F</td>\n",
       "      <td>True</td>\n",
       "      <td>True</td>\n",
       "      <td>0</td>\n",
       "      <td>450000.0</td>\n",
       "      <td>Commercial associate</td>\n",
       "      <td>Higher education</td>\n",
       "      <td>Separated</td>\n",
       "      <td>House / apartment</td>\n",
       "      <td>05-07-1969</td>\n",
       "      <td>-1799</td>\n",
       "      <td>NaN</td>\n",
       "      <td>1</td>\n",
       "      <td>54</td>\n",
       "      <td>True</td>\n",
       "      <td>400K-500K</td>\n",
       "    </tr>\n",
       "    <tr>\n",
       "      <th>431545</th>\n",
       "      <td>7022327</td>\n",
       "      <td>F</td>\n",
       "      <td>True</td>\n",
       "      <td>True</td>\n",
       "      <td>0</td>\n",
       "      <td>135000.0</td>\n",
       "      <td>Commercial associate</td>\n",
       "      <td>Secondary / secondary special</td>\n",
       "      <td>Single / not married</td>\n",
       "      <td>House / apartment</td>\n",
       "      <td>02-25-1983</td>\n",
       "      <td>-5298</td>\n",
       "      <td>High skill tech staff</td>\n",
       "      <td>1</td>\n",
       "      <td>40</td>\n",
       "      <td>True</td>\n",
       "      <td>100K-200K</td>\n",
       "    </tr>\n",
       "    <tr>\n",
       "      <th>431911</th>\n",
       "      <td>7022327</td>\n",
       "      <td>M</td>\n",
       "      <td>True</td>\n",
       "      <td>True</td>\n",
       "      <td>0</td>\n",
       "      <td>256500.0</td>\n",
       "      <td>Commercial associate</td>\n",
       "      <td>Higher education</td>\n",
       "      <td>Married</td>\n",
       "      <td>House / apartment</td>\n",
       "      <td>09-20-1964</td>\n",
       "      <td>-1674</td>\n",
       "      <td>Core staff</td>\n",
       "      <td>2</td>\n",
       "      <td>58</td>\n",
       "      <td>True</td>\n",
       "      <td>200K-300K</td>\n",
       "    </tr>\n",
       "    <tr>\n",
       "      <th>425486</th>\n",
       "      <td>7023108</td>\n",
       "      <td>M</td>\n",
       "      <td>True</td>\n",
       "      <td>True</td>\n",
       "      <td>1</td>\n",
       "      <td>67500.0</td>\n",
       "      <td>Working</td>\n",
       "      <td>Secondary / secondary special</td>\n",
       "      <td>Married</td>\n",
       "      <td>House / apartment</td>\n",
       "      <td>02-05-1982</td>\n",
       "      <td>-1696</td>\n",
       "      <td>Core staff</td>\n",
       "      <td>3</td>\n",
       "      <td>41</td>\n",
       "      <td>True</td>\n",
       "      <td>0-100k</td>\n",
       "    </tr>\n",
       "    <tr>\n",
       "      <th>...</th>\n",
       "      <td>...</td>\n",
       "      <td>...</td>\n",
       "      <td>...</td>\n",
       "      <td>...</td>\n",
       "      <td>...</td>\n",
       "      <td>...</td>\n",
       "      <td>...</td>\n",
       "      <td>...</td>\n",
       "      <td>...</td>\n",
       "      <td>...</td>\n",
       "      <td>...</td>\n",
       "      <td>...</td>\n",
       "      <td>...</td>\n",
       "      <td>...</td>\n",
       "      <td>...</td>\n",
       "      <td>...</td>\n",
       "      <td>...</td>\n",
       "    </tr>\n",
       "    <tr>\n",
       "      <th>426563</th>\n",
       "      <td>7836711</td>\n",
       "      <td>F</td>\n",
       "      <td>True</td>\n",
       "      <td>True</td>\n",
       "      <td>2</td>\n",
       "      <td>292500.0</td>\n",
       "      <td>Working</td>\n",
       "      <td>Higher education</td>\n",
       "      <td>Married</td>\n",
       "      <td>House / apartment</td>\n",
       "      <td>12-15-1985</td>\n",
       "      <td>-4386</td>\n",
       "      <td>Accountants</td>\n",
       "      <td>4</td>\n",
       "      <td>37</td>\n",
       "      <td>True</td>\n",
       "      <td>200K-300K</td>\n",
       "    </tr>\n",
       "    <tr>\n",
       "      <th>421464</th>\n",
       "      <td>7836971</td>\n",
       "      <td>M</td>\n",
       "      <td>True</td>\n",
       "      <td>True</td>\n",
       "      <td>1</td>\n",
       "      <td>157500.0</td>\n",
       "      <td>Working</td>\n",
       "      <td>Secondary / secondary special</td>\n",
       "      <td>Married</td>\n",
       "      <td>House / apartment</td>\n",
       "      <td>11-21-1985</td>\n",
       "      <td>-5520</td>\n",
       "      <td>NaN</td>\n",
       "      <td>3</td>\n",
       "      <td>37</td>\n",
       "      <td>True</td>\n",
       "      <td>100K-200K</td>\n",
       "    </tr>\n",
       "    <tr>\n",
       "      <th>428620</th>\n",
       "      <td>7836971</td>\n",
       "      <td>F</td>\n",
       "      <td>True</td>\n",
       "      <td>True</td>\n",
       "      <td>0</td>\n",
       "      <td>103500.0</td>\n",
       "      <td>Working</td>\n",
       "      <td>Secondary / secondary special</td>\n",
       "      <td>Civil marriage</td>\n",
       "      <td>House / apartment</td>\n",
       "      <td>12-14-1986</td>\n",
       "      <td>-2798</td>\n",
       "      <td>Sales staff</td>\n",
       "      <td>2</td>\n",
       "      <td>36</td>\n",
       "      <td>True</td>\n",
       "      <td>100K-200K</td>\n",
       "    </tr>\n",
       "    <tr>\n",
       "      <th>422068</th>\n",
       "      <td>7838075</td>\n",
       "      <td>M</td>\n",
       "      <td>True</td>\n",
       "      <td>True</td>\n",
       "      <td>0</td>\n",
       "      <td>337500.0</td>\n",
       "      <td>Commercial associate</td>\n",
       "      <td>Secondary / secondary special</td>\n",
       "      <td>Married</td>\n",
       "      <td>House / apartment</td>\n",
       "      <td>10-08-1973</td>\n",
       "      <td>-1275</td>\n",
       "      <td>Drivers</td>\n",
       "      <td>2</td>\n",
       "      <td>49</td>\n",
       "      <td>True</td>\n",
       "      <td>300K-400K</td>\n",
       "    </tr>\n",
       "    <tr>\n",
       "      <th>423702</th>\n",
       "      <td>7838075</td>\n",
       "      <td>F</td>\n",
       "      <td>True</td>\n",
       "      <td>True</td>\n",
       "      <td>0</td>\n",
       "      <td>315000.0</td>\n",
       "      <td>Commercial associate</td>\n",
       "      <td>Higher education</td>\n",
       "      <td>Single / not married</td>\n",
       "      <td>House / apartment</td>\n",
       "      <td>04-21-1994</td>\n",
       "      <td>-1659</td>\n",
       "      <td>NaN</td>\n",
       "      <td>1</td>\n",
       "      <td>29</td>\n",
       "      <td>True</td>\n",
       "      <td>300K-400K</td>\n",
       "    </tr>\n",
       "  </tbody>\n",
       "</table>\n",
       "<p>94 rows × 17 columns</p>\n",
       "</div>"
      ],
      "text/plain": [
       "             ID Gender  Own_Car  Own_Property  Num_of_Children    Income  \\\n",
       "426818  7022197      M     True          True                3  135000.0   \n",
       "425023  7022197      F     True          True                0  450000.0   \n",
       "431545  7022327      F     True          True                0  135000.0   \n",
       "431911  7022327      M     True          True                0  256500.0   \n",
       "425486  7023108      M     True          True                1   67500.0   \n",
       "...         ...    ...      ...           ...              ...       ...   \n",
       "426563  7836711      F     True          True                2  292500.0   \n",
       "421464  7836971      M     True          True                1  157500.0   \n",
       "428620  7836971      F     True          True                0  103500.0   \n",
       "422068  7838075      M     True          True                0  337500.0   \n",
       "423702  7838075      F     True          True                0  315000.0   \n",
       "\n",
       "                 Income_Type                Education_Level  \\\n",
       "426818               Working  Secondary / secondary special   \n",
       "425023  Commercial associate               Higher education   \n",
       "431545  Commercial associate  Secondary / secondary special   \n",
       "431911  Commercial associate               Higher education   \n",
       "425486               Working  Secondary / secondary special   \n",
       "...                      ...                            ...   \n",
       "426563               Working               Higher education   \n",
       "421464               Working  Secondary / secondary special   \n",
       "428620               Working  Secondary / secondary special   \n",
       "422068  Commercial associate  Secondary / secondary special   \n",
       "423702  Commercial associate               Higher education   \n",
       "\n",
       "              Marital_Status       Housing_Type Date_of_Birth  Days_Employed  \\\n",
       "426818               Married  House / apartment    11-21-1990           -735   \n",
       "425023             Separated  House / apartment    05-07-1969          -1799   \n",
       "431545  Single / not married  House / apartment    02-25-1983          -5298   \n",
       "431911               Married  House / apartment    09-20-1964          -1674   \n",
       "425486               Married  House / apartment    02-05-1982          -1696   \n",
       "...                      ...                ...           ...            ...   \n",
       "426563               Married  House / apartment    12-15-1985          -4386   \n",
       "421464               Married  House / apartment    11-21-1985          -5520   \n",
       "428620        Civil marriage  House / apartment    12-14-1986          -2798   \n",
       "422068               Married  House / apartment    10-08-1973          -1275   \n",
       "423702  Single / not married  House / apartment    04-21-1994          -1659   \n",
       "\n",
       "              Occupation_Type  Family_Size  Age  Employed Income_level  \n",
       "426818               Laborers            5   32      True    100K-200K  \n",
       "425023                    NaN            1   54      True    400K-500K  \n",
       "431545  High skill tech staff            1   40      True    100K-200K  \n",
       "431911             Core staff            2   58      True    200K-300K  \n",
       "425486             Core staff            3   41      True       0-100k  \n",
       "...                       ...          ...  ...       ...          ...  \n",
       "426563            Accountants            4   37      True    200K-300K  \n",
       "421464                    NaN            3   37      True    100K-200K  \n",
       "428620            Sales staff            2   36      True    100K-200K  \n",
       "422068                Drivers            2   49      True    300K-400K  \n",
       "423702                    NaN            1   29      True    300K-400K  \n",
       "\n",
       "[94 rows x 17 columns]"
      ]
     },
     "execution_count": 63,
     "metadata": {},
     "output_type": "execute_result"
    }
   ],
   "source": [
    "dup.sort_values(by=\"ID\")"
   ]
  },
  {
   "cell_type": "code",
   "execution_count": 54,
   "id": "9cf4be44",
   "metadata": {},
   "outputs": [
    {
     "data": {
      "text/plain": [
       "(438463, 17)"
      ]
     },
     "execution_count": 54,
     "metadata": {},
     "output_type": "execute_result"
    }
   ],
   "source": [
    "#Duplicate rows have duplicate IDs with different gender and date of birth\n",
    "#drop all rows with duplicate IDs\n",
    "df_app.drop_duplicates(\"ID\", keep = False, inplace=True)\n",
    "df_app.shape"
   ]
  },
  {
   "cell_type": "code",
   "execution_count": 55,
   "id": "9b231018",
   "metadata": {},
   "outputs": [
    {
     "data": {
      "text/plain": [
       "ID                  int64\n",
       "Monthly_Balance     int64\n",
       "Loan_Status        object\n",
       "dtype: object"
      ]
     },
     "execution_count": 55,
     "metadata": {},
     "output_type": "execute_result"
    }
   ],
   "source": [
    "#Find data type of each columns in Credit DataFrame\n",
    "df_credit.dtypes"
   ]
  },
  {
   "cell_type": "code",
   "execution_count": 57,
   "id": "d003d188",
   "metadata": {},
   "outputs": [
    {
     "data": {
      "text/html": [
       "<div>\n",
       "<style scoped>\n",
       "    .dataframe tbody tr th:only-of-type {\n",
       "        vertical-align: middle;\n",
       "    }\n",
       "\n",
       "    .dataframe tbody tr th {\n",
       "        vertical-align: top;\n",
       "    }\n",
       "\n",
       "    .dataframe thead th {\n",
       "        text-align: right;\n",
       "    }\n",
       "</style>\n",
       "<table border=\"1\" class=\"dataframe\">\n",
       "  <thead>\n",
       "    <tr style=\"text-align: right;\">\n",
       "      <th></th>\n",
       "      <th>ID</th>\n",
       "      <th>Monthly_Balance</th>\n",
       "      <th>Loan_Status</th>\n",
       "    </tr>\n",
       "  </thead>\n",
       "  <tbody>\n",
       "    <tr>\n",
       "      <th>0</th>\n",
       "      <td>5001711</td>\n",
       "      <td>0</td>\n",
       "      <td>X</td>\n",
       "    </tr>\n",
       "    <tr>\n",
       "      <th>1</th>\n",
       "      <td>5001711</td>\n",
       "      <td>-1</td>\n",
       "      <td>0</td>\n",
       "    </tr>\n",
       "    <tr>\n",
       "      <th>2</th>\n",
       "      <td>5001711</td>\n",
       "      <td>-2</td>\n",
       "      <td>0</td>\n",
       "    </tr>\n",
       "    <tr>\n",
       "      <th>3</th>\n",
       "      <td>5001711</td>\n",
       "      <td>-3</td>\n",
       "      <td>0</td>\n",
       "    </tr>\n",
       "    <tr>\n",
       "      <th>4</th>\n",
       "      <td>5001712</td>\n",
       "      <td>0</td>\n",
       "      <td>C</td>\n",
       "    </tr>\n",
       "    <tr>\n",
       "      <th>...</th>\n",
       "      <td>...</td>\n",
       "      <td>...</td>\n",
       "      <td>...</td>\n",
       "    </tr>\n",
       "    <tr>\n",
       "      <th>1048570</th>\n",
       "      <td>5150487</td>\n",
       "      <td>-25</td>\n",
       "      <td>C</td>\n",
       "    </tr>\n",
       "    <tr>\n",
       "      <th>1048571</th>\n",
       "      <td>5150487</td>\n",
       "      <td>-26</td>\n",
       "      <td>C</td>\n",
       "    </tr>\n",
       "    <tr>\n",
       "      <th>1048572</th>\n",
       "      <td>5150487</td>\n",
       "      <td>-27</td>\n",
       "      <td>C</td>\n",
       "    </tr>\n",
       "    <tr>\n",
       "      <th>1048573</th>\n",
       "      <td>5150487</td>\n",
       "      <td>-28</td>\n",
       "      <td>C</td>\n",
       "    </tr>\n",
       "    <tr>\n",
       "      <th>1048574</th>\n",
       "      <td>5150487</td>\n",
       "      <td>-29</td>\n",
       "      <td>C</td>\n",
       "    </tr>\n",
       "  </tbody>\n",
       "</table>\n",
       "<p>1048176 rows × 3 columns</p>\n",
       "</div>"
      ],
      "text/plain": [
       "              ID  Monthly_Balance Loan_Status\n",
       "0        5001711                0           X\n",
       "1        5001711               -1           0\n",
       "2        5001711               -2           0\n",
       "3        5001711               -3           0\n",
       "4        5001712                0           C\n",
       "...          ...              ...         ...\n",
       "1048570  5150487              -25           C\n",
       "1048571  5150487              -26           C\n",
       "1048572  5150487              -27           C\n",
       "1048573  5150487              -28           C\n",
       "1048574  5150487              -29           C\n",
       "\n",
       "[1048176 rows x 3 columns]"
      ]
     },
     "execution_count": 57,
     "metadata": {},
     "output_type": "execute_result"
    }
   ],
   "source": [
    "#Find all duplicate IDs in dataframe\n",
    "duplicate = df_credit[df_credit[\"ID\"].duplicated(keep=False)]\n",
    "duplicate"
   ]
  },
  {
   "cell_type": "code",
   "execution_count": 59,
   "id": "9c3df35d",
   "metadata": {},
   "outputs": [
    {
     "data": {
      "text/plain": [
       "0"
      ]
     },
     "execution_count": 59,
     "metadata": {},
     "output_type": "execute_result"
    }
   ],
   "source": [
    "#Group duplicate IDs by loan_Status\n",
    "#Check for missing values\n",
    "df_credit[\"Loan_Status\"].isnull().sum()"
   ]
  },
  {
   "cell_type": "code",
   "execution_count": 64,
   "id": "822ef7c2",
   "metadata": {},
   "outputs": [
    {
     "data": {
      "text/html": [
       "<div>\n",
       "<style scoped>\n",
       "    .dataframe tbody tr th:only-of-type {\n",
       "        vertical-align: middle;\n",
       "    }\n",
       "\n",
       "    .dataframe tbody tr th {\n",
       "        vertical-align: top;\n",
       "    }\n",
       "\n",
       "    .dataframe thead th {\n",
       "        text-align: right;\n",
       "    }\n",
       "</style>\n",
       "<table border=\"1\" class=\"dataframe\">\n",
       "  <thead>\n",
       "    <tr style=\"text-align: right;\">\n",
       "      <th></th>\n",
       "      <th>ID</th>\n",
       "      <th>Good_Customer</th>\n",
       "    </tr>\n",
       "  </thead>\n",
       "  <tbody>\n",
       "    <tr>\n",
       "      <th>0</th>\n",
       "      <td>5001711</td>\n",
       "      <td>False</td>\n",
       "    </tr>\n",
       "    <tr>\n",
       "      <th>4</th>\n",
       "      <td>5001712</td>\n",
       "      <td>False</td>\n",
       "    </tr>\n",
       "    <tr>\n",
       "      <th>23</th>\n",
       "      <td>5001713</td>\n",
       "      <td>True</td>\n",
       "    </tr>\n",
       "    <tr>\n",
       "      <th>45</th>\n",
       "      <td>5001714</td>\n",
       "      <td>True</td>\n",
       "    </tr>\n",
       "    <tr>\n",
       "      <th>60</th>\n",
       "      <td>5001715</td>\n",
       "      <td>True</td>\n",
       "    </tr>\n",
       "  </tbody>\n",
       "</table>\n",
       "</div>"
      ],
      "text/plain": [
       "         ID  Good_Customer\n",
       "0   5001711          False\n",
       "4   5001712          False\n",
       "23  5001713           True\n",
       "45  5001714           True\n",
       "60  5001715           True"
      ]
     },
     "execution_count": 64,
     "metadata": {},
     "output_type": "execute_result"
    }
   ],
   "source": [
    "# Loan_Status values: 0,1,2,3,4,and 5 -> Past Due\n",
    "#Loan_Status values: C and X -> Paid Off of No Loan\n",
    "past_due = [\"0\", \"1\", \"2\", \"3\", \"4\", \"5\"]\n",
    "delinquent = df_credit[df_credit.Loan_Status.isin(past_due)].ID.unique()\n",
    "df_credit[\"Good_Customer\"] = ~df_credit.ID.isin(delinquent)\n",
    "df_credit_1 = df_credit[[\"ID\", \"Good_Customer\"]].drop_duplicates()\n",
    "df_credit_1.head(5)"
   ]
  },
  {
   "cell_type": "code",
   "execution_count": 65,
   "id": "c75751bc",
   "metadata": {},
   "outputs": [
    {
     "data": {
      "text/plain": [
       "ID               0\n",
       "Good_Customer    0\n",
       "dtype: int64"
      ]
     },
     "execution_count": 65,
     "metadata": {},
     "output_type": "execute_result"
    }
   ],
   "source": [
    "#Check for null values in dataframe\n",
    "df_credit_1.isnull().sum()"
   ]
  },
  {
   "cell_type": "code",
   "execution_count": 66,
   "id": "8dbb03f9",
   "metadata": {},
   "outputs": [
    {
     "data": {
      "text/plain": [
       "(438463, 17)"
      ]
     },
     "execution_count": 66,
     "metadata": {},
     "output_type": "execute_result"
    }
   ],
   "source": [
    "df_app.shape"
   ]
  },
  {
   "cell_type": "code",
   "execution_count": 67,
   "id": "7fc34327",
   "metadata": {},
   "outputs": [
    {
     "data": {
      "text/plain": [
       "(45985, 2)"
      ]
     },
     "execution_count": 67,
     "metadata": {},
     "output_type": "execute_result"
    }
   ],
   "source": [
    "df_credit_1.shape"
   ]
  },
  {
   "cell_type": "code",
   "execution_count": 68,
   "id": "9fe453d4",
   "metadata": {},
   "outputs": [
    {
     "data": {
      "text/html": [
       "<div>\n",
       "<style scoped>\n",
       "    .dataframe tbody tr th:only-of-type {\n",
       "        vertical-align: middle;\n",
       "    }\n",
       "\n",
       "    .dataframe tbody tr th {\n",
       "        vertical-align: top;\n",
       "    }\n",
       "\n",
       "    .dataframe thead th {\n",
       "        text-align: right;\n",
       "    }\n",
       "</style>\n",
       "<table border=\"1\" class=\"dataframe\">\n",
       "  <thead>\n",
       "    <tr style=\"text-align: right;\">\n",
       "      <th></th>\n",
       "      <th>ID</th>\n",
       "      <th>Gender</th>\n",
       "      <th>Own_Car</th>\n",
       "      <th>Own_Property</th>\n",
       "      <th>Num_of_Children</th>\n",
       "      <th>Income</th>\n",
       "      <th>Income_Type</th>\n",
       "      <th>Education_Level</th>\n",
       "      <th>Marital_Status</th>\n",
       "      <th>Housing_Type</th>\n",
       "      <th>Date_of_Birth</th>\n",
       "      <th>Days_Employed</th>\n",
       "      <th>Occupation_Type</th>\n",
       "      <th>Family_Size</th>\n",
       "      <th>Age</th>\n",
       "      <th>Employed</th>\n",
       "      <th>Income_level</th>\n",
       "      <th>Good_Customer</th>\n",
       "    </tr>\n",
       "  </thead>\n",
       "  <tbody>\n",
       "    <tr>\n",
       "      <th>0</th>\n",
       "      <td>5008804</td>\n",
       "      <td>M</td>\n",
       "      <td>True</td>\n",
       "      <td>True</td>\n",
       "      <td>0</td>\n",
       "      <td>427500.0</td>\n",
       "      <td>Working</td>\n",
       "      <td>Higher education</td>\n",
       "      <td>Civil marriage</td>\n",
       "      <td>Rented apartment</td>\n",
       "      <td>09-22-1990</td>\n",
       "      <td>-4542</td>\n",
       "      <td>NaN</td>\n",
       "      <td>2</td>\n",
       "      <td>32</td>\n",
       "      <td>True</td>\n",
       "      <td>400K-500K</td>\n",
       "      <td>False</td>\n",
       "    </tr>\n",
       "    <tr>\n",
       "      <th>1</th>\n",
       "      <td>5008805</td>\n",
       "      <td>M</td>\n",
       "      <td>True</td>\n",
       "      <td>True</td>\n",
       "      <td>0</td>\n",
       "      <td>427500.0</td>\n",
       "      <td>Working</td>\n",
       "      <td>Higher education</td>\n",
       "      <td>Civil marriage</td>\n",
       "      <td>Rented apartment</td>\n",
       "      <td>09-22-1990</td>\n",
       "      <td>-4542</td>\n",
       "      <td>NaN</td>\n",
       "      <td>2</td>\n",
       "      <td>32</td>\n",
       "      <td>True</td>\n",
       "      <td>400K-500K</td>\n",
       "      <td>False</td>\n",
       "    </tr>\n",
       "    <tr>\n",
       "      <th>2</th>\n",
       "      <td>5008806</td>\n",
       "      <td>M</td>\n",
       "      <td>True</td>\n",
       "      <td>True</td>\n",
       "      <td>0</td>\n",
       "      <td>112500.0</td>\n",
       "      <td>Working</td>\n",
       "      <td>Secondary / secondary special</td>\n",
       "      <td>Married</td>\n",
       "      <td>House / apartment</td>\n",
       "      <td>10-19-1964</td>\n",
       "      <td>-1134</td>\n",
       "      <td>Security staff</td>\n",
       "      <td>2</td>\n",
       "      <td>58</td>\n",
       "      <td>True</td>\n",
       "      <td>100K-200K</td>\n",
       "      <td>False</td>\n",
       "    </tr>\n",
       "    <tr>\n",
       "      <th>3</th>\n",
       "      <td>5008808</td>\n",
       "      <td>F</td>\n",
       "      <td>True</td>\n",
       "      <td>True</td>\n",
       "      <td>0</td>\n",
       "      <td>270000.0</td>\n",
       "      <td>Commercial associate</td>\n",
       "      <td>Secondary / secondary special</td>\n",
       "      <td>Single / not married</td>\n",
       "      <td>House / apartment</td>\n",
       "      <td>04-10-1971</td>\n",
       "      <td>-3051</td>\n",
       "      <td>Sales staff</td>\n",
       "      <td>1</td>\n",
       "      <td>52</td>\n",
       "      <td>True</td>\n",
       "      <td>200K-300K</td>\n",
       "      <td>False</td>\n",
       "    </tr>\n",
       "    <tr>\n",
       "      <th>4</th>\n",
       "      <td>5008809</td>\n",
       "      <td>F</td>\n",
       "      <td>True</td>\n",
       "      <td>True</td>\n",
       "      <td>0</td>\n",
       "      <td>270000.0</td>\n",
       "      <td>Commercial associate</td>\n",
       "      <td>Secondary / secondary special</td>\n",
       "      <td>Single / not married</td>\n",
       "      <td>House / apartment</td>\n",
       "      <td>04-10-1971</td>\n",
       "      <td>-3051</td>\n",
       "      <td>Sales staff</td>\n",
       "      <td>1</td>\n",
       "      <td>52</td>\n",
       "      <td>True</td>\n",
       "      <td>200K-300K</td>\n",
       "      <td>True</td>\n",
       "    </tr>\n",
       "  </tbody>\n",
       "</table>\n",
       "</div>"
      ],
      "text/plain": [
       "        ID Gender  Own_Car  Own_Property  Num_of_Children    Income  \\\n",
       "0  5008804      M     True          True                0  427500.0   \n",
       "1  5008805      M     True          True                0  427500.0   \n",
       "2  5008806      M     True          True                0  112500.0   \n",
       "3  5008808      F     True          True                0  270000.0   \n",
       "4  5008809      F     True          True                0  270000.0   \n",
       "\n",
       "            Income_Type                Education_Level        Marital_Status  \\\n",
       "0               Working               Higher education        Civil marriage   \n",
       "1               Working               Higher education        Civil marriage   \n",
       "2               Working  Secondary / secondary special               Married   \n",
       "3  Commercial associate  Secondary / secondary special  Single / not married   \n",
       "4  Commercial associate  Secondary / secondary special  Single / not married   \n",
       "\n",
       "        Housing_Type Date_of_Birth  Days_Employed Occupation_Type  \\\n",
       "0   Rented apartment    09-22-1990          -4542             NaN   \n",
       "1   Rented apartment    09-22-1990          -4542             NaN   \n",
       "2  House / apartment    10-19-1964          -1134  Security staff   \n",
       "3  House / apartment    04-10-1971          -3051     Sales staff   \n",
       "4  House / apartment    04-10-1971          -3051     Sales staff   \n",
       "\n",
       "   Family_Size  Age  Employed Income_level Good_Customer  \n",
       "0            2   32      True    400K-500K         False  \n",
       "1            2   32      True    400K-500K         False  \n",
       "2            2   58      True    100K-200K         False  \n",
       "3            1   52      True    200K-300K         False  \n",
       "4            1   52      True    200K-300K          True  "
      ]
     },
     "execution_count": 68,
     "metadata": {},
     "output_type": "execute_result"
    }
   ],
   "source": [
    "#Join dataframes: Left_Join\n",
    "df = df_app.merge(df_credit_1, on=\"ID\", how=\"left\")\n",
    "df.head(5)"
   ]
  },
  {
   "cell_type": "code",
   "execution_count": 69,
   "id": "c8bb16d6",
   "metadata": {},
   "outputs": [
    {
     "data": {
      "text/plain": [
       "(438463, 18)"
      ]
     },
     "execution_count": 69,
     "metadata": {},
     "output_type": "execute_result"
    }
   ],
   "source": [
    "df.shape"
   ]
  },
  {
   "cell_type": "code",
   "execution_count": null,
   "id": "b2413241",
   "metadata": {},
   "outputs": [],
   "source": []
  }
 ],
 "metadata": {
  "kernelspec": {
   "display_name": "Python 3 (ipykernel)",
   "language": "python",
   "name": "python3"
  },
  "language_info": {
   "codemirror_mode": {
    "name": "ipython",
    "version": 3
   },
   "file_extension": ".py",
   "mimetype": "text/x-python",
   "name": "python",
   "nbconvert_exporter": "python",
   "pygments_lexer": "ipython3",
   "version": "3.9.13"
  }
 },
 "nbformat": 4,
 "nbformat_minor": 5
}
